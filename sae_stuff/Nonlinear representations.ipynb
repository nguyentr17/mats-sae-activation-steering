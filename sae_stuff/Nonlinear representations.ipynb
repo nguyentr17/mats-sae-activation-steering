{
 "cells": [
  {
   "cell_type": "code",
   "execution_count": null,
   "id": "cb5685d5-cd67-4527-9d91-e919fbcd6e98",
   "metadata": {},
   "outputs": [],
   "source": []
  }
 ],
 "metadata": {
  "kernelspec": {
   "display_name": "Python 3 (ipykernel)",
   "language": "python",
   "name": "python3"
  },
  "language_info": {
   "codemirror_mode": {
    "name": "ipython",
    "version": 3
   },
   "file_extension": ".py",
   "mimetype": "text/x-python",
   "name": "python",
   "nbconvert_exporter": "python",
   "pygments_lexer": "ipython3",
   "version": "3.12.4"
  }
 },
 "nbformat": 4,
 "nbformat_minor": 5
}
